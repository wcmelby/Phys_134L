{
 "cells": [
  {
   "cell_type": "code",
   "execution_count": 5,
   "id": "395a4128",
   "metadata": {},
   "outputs": [
    {
     "name": "stdout",
     "output_type": "stream",
     "text": [
      "M error 0.003702822331962098\n",
      "6.407201542816782e-05\n",
      "5.008251322710866e-05\n",
      "SNR= 101570189.0887059\n",
      "Error= 0.0004740440179559701\n",
      "SNR= 101570189.08879444\n",
      "Error(L_g)= -0.007584563063820905 Error(L_r)= -0.009933389480923198 Error(L_i)= -0.07357784773270751\n"
     ]
    }
   ],
   "source": [
    "##Note: only take Magnitude error datas, other errors were repropagated\n",
    "tau=11\n",
    "F_g=5137\n",
    "F_r=3123\n",
    "F_i=929\n",
    "T=10500\n",
    "\n",
    "A_e_g=4.006\n",
    "A_e_r=3.1157\n",
    "A_e_i=1.7804\n",
    "n_r=14.5\n",
    "n_t=.01\n",
    "\n",
    "\n",
    "import numpy as np\n",
    "n_tg=F_g*A_e_g+0.01+.1*A_e_g*.7\n",
    "n_tr=F_r*A_e_r+0.01+.1*A_e_r*.9\n",
    "n_ti=F_i*A_e_i+0.01+.1*A_e_i*.4\n",
    "\n",
    "SNR_g=((F_g*A_e_g*tau))/((n_r**2+tau*n_tg)**.5)\n",
    "SNR_r=((F_r*A_e_r*tau))/((n_r**2+tau*n_tr)**.5)\n",
    "SNR_i=((F_i*A_e_i*tau))/((n_r**2+tau*n_ti)**.5)\n",
    "\n",
    "error_F_g=F_g/SNR_g\n",
    "error_F_r=F_r/SNR_r\n",
    "error_F_i=F_r/SNR_i\n",
    "\n",
    "D=8.52 \n",
    "D_err=0.0025\n",
    "ZP_g=21.56\n",
    "ZP_r=21.01\n",
    "\n",
    "M_g=np.sqrt((-2.5*(np.log10(D)/(F_g*np.log(10)))*error_F_g)**2 +\n",
    "    ( (-2.5*np.log10(F_g)+ZP_g)*(1/(D*np.log(10)))*D_err)**2)\n",
    "M_r=np.sqrt((-2.5*(np.log10(D)/(F_g*np.log(10)))*error_F_g)**2 +\n",
    "    ( (-2.5*np.log10(F_g)+ZP_r)*(1/(D*np.log(10)))*D_err)**2)\n",
    "print('M error',np.sqrt(M_g**2+M_r**2))\n",
    "\n",
    "\n",
    "error_t_g=T*(n_r**2+tau*n_t)**.5/(F_g**2*A_e_g*tau)\n",
    "error_t_r=T*(n_r**2+tau*n_t)**.5/(F_r**2*A_e_r*tau)\n",
    "#error_t_i=T*(n_r**2+tau*n_t)**.5/(F_i**2*A_e_i*tau)\n",
    "error=(error_t_g**2+error_t_r**2)**.5\n",
    "\n",
    "SNR_g=((F_g**2*A_e_g*tau))/((n_r**2+tau*n_t)**.5)\n",
    "SNR_r=((F_g**2*A_e_r*tau))/((n_r**2+tau*n_t)**.5)\n",
    "print(F_g/SNR_g)\n",
    "print(F_r/SNR_r)\n",
    "#print(F_i/SNR)\n",
    "\n",
    "print('SNR=',np.sqrt(SNR_g**2+SNR_r**2))\n",
    "print('Error=',error)\n",
    "\n",
    "\n",
    "S_0=3.83*10**26\n",
    "l_g=(2.90E+23)/(S_0)\n",
    "l_r=(2.95E+23)/(S_0)\n",
    "l_i=(2.72E+23)/(S_0)\n",
    "\n",
    "ZP_i=19.78\n",
    "error_L_g=(0.4*np.log(l_g))*np.sqrt((-2.5*(np.log10(D)/(F_g*np.log(10)))*error_F_g)**2 +\n",
    "    ( (-2.5*np.log10(F_g)+ZP_g)*(1/(D*np.log(10)))*D_err)**2)\n",
    "error_L_r=(0.4*np.log(l_r))*np.sqrt((-2.5*(np.log10(D)/(F_r*np.log(10)))*error_F_r)**2 +\n",
    "    ( (-2.5*np.log10(F_r)+ZP_r)*(1/(D*np.log(10)))*D_err)**2)\n",
    "error_L_i=(0.4*np.log(l_i))*np.sqrt((-2.5*(np.log10(D)/(F_i*np.log(10)))*error_F_i)**2 +\n",
    "    ( (-2.5*np.log10(F_i)+ZP_i)*(1/(D*np.log(10)))*D_err)**2)\n",
    "\n",
    "error_T_g=(error_L_g)/(l_g**(3/4))\n",
    "error_T_r=(error_L_r)/(l_r**(3/4))\n",
    "error_T_i=(error_L_i)/(l_i**(3/4))\n",
    "\n",
    "error_T=np.sqrt(error_T_g**2+error_T_r**2)\n",
    "\n",
    "print('SNR=',np.sqrt(SNR_g**2+SNR_r**2+SNR_i**2))\n",
    "\n",
    "print('Error(L_g)=',error_L_g,'Error(L_r)=',error_L_r,'Error(L_i)=',error_L_i)"
   ]
  },
  {
   "cell_type": "code",
   "execution_count": 6,
   "id": "6da5e5c5",
   "metadata": {},
   "outputs": [
    {
     "data": {
      "image/png": "[encoded data removed]",
      "text/plain": [
       "<Figure size 432x288 with 1 Axes>"
      ]
     },
     "metadata": {
      "needs_background": "light"
     },
     "output_type": "display_data"
    }
   ],
   "source": [
    "import matplotlib.pyplot as plt\n",
    "import numpy as np\n",
    "\n",
    "values = [T, 9086 , 9040, 9230]\n",
    "errors = [500, 7, 19, 13.1]\n",
    "labels = ['Our Measurement', \"O'Brien (2024)\",  'Subasavage (2017)', 'Gianninas (2011)']\n",
    "\n",
    "x_positions = np.arange(len(values))\n",
    "\n",
    "fig, ax = plt.subplots()\n",
    "\n",
    "ax.errorbar(x_positions, values, yerr=errors, fmt='o', capsize=5, markersize=8, linewidth=2)\n",
    "\n",
    "ax.set_xticks(x_positions)\n",
    "ax.set_xticklabels(labels, rotation=45, ha='right')\n",
    "\n",
    "ax.set_ylabel('Temperature (K)')\n",
    "ax.set_title('LHS 253')\n",
    "\n",
    "plt.tight_layout()\n",
    "plt.grid(True)\n",
    "\n",
    "plt.savefig('LHS253')"
   ]
  }
 ],
 "metadata": {
  "kernelspec": {
   "display_name": "Python 3 (ipykernel)",
   "language": "python",
   "name": "python3"
  },
  "language_info": {
   "codemirror_mode": {
    "name": "ipython",
    "version": 3
   },
   "file_extension": ".py",
   "mimetype": "text/x-python",
   "name": "python",
   "nbconvert_exporter": "python",
   "pygments_lexer": "ipython3",
   "version": "3.9.7"
  }
 },
 "nbformat": 4,
 "nbformat_minor": 5
}
