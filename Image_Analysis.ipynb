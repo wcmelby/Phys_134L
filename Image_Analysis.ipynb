{
 "cells": [
  {
   "cell_type": "code",
   "execution_count": 1,
   "metadata": {},
   "outputs": [],
   "source": [
    "import numpy as np\n",
    "import matplotlib.pyplot as plt\n",
    "from astropy.io import fits\n",
    "import sys\n",
    "import os\n",
    "import pandas as pd"
   ]
  },
  {
   "cell_type": "code",
   "execution_count": 2,
   "metadata": {},
   "outputs": [],
   "source": [
    "from analysis_functions import *"
   ]
  },
  {
   "cell_type": "code",
   "execution_count": 15,
   "metadata": {},
   "outputs": [],
   "source": [
    "# image = r'C:\\Users\\Willi\\Desktop\\134L Images\\good_fits\\van_Maanen_g.fits'\n",
    "image = r'C:\\Users\\admin1\\OneDrive\\Desktop\\134L Images\\good_fits\\van_Maanen_g.fits'\n",
    "hdul = fits.open(image)\n",
    "image = hdul[1].data\n",
    "\n",
    "# if not os.path.isfile(image):\n",
    "#     print('File not found')"
   ]
  },
  {
   "cell_type": "code",
   "execution_count": 16,
   "metadata": {},
   "outputs": [
    {
     "name": "stdout",
     "output_type": "stream",
     "text": [
      " id     xcentroid          ycentroid      ...    mag      daofind_mag  \n",
      "--- ------------------ ------------------ ... ---------- --------------\n",
      "  1 2306.4408154241164  6.259779321721506 ... -0.9937378  -0.0007572887\n",
      "  2  400.6057567920176 7.1702872270909825 ...  -4.292782   -0.033868663\n",
      "  3 1991.0681078395646   12.0559356633655 ...  -4.813613 -0.00055278355\n",
      "  4  808.7954320999415 19.965286804836683 ... -12.029372      -5.367277\n",
      "  5 1573.9055424720214  27.35116332233888 ... -5.4277506   -0.092916325\n",
      "  6 1286.5857761003986  36.62858535474353 ... -13.987905      -7.170459\n",
      "  7 1998.1247807924026  39.84846785034843 ... -2.7234263   -0.008517929\n",
      "  8   674.168880717519 42.270250345699395 ... -10.257473     -3.5766654\n",
      "  9   776.946187184268 43.831073603933355 ...  -4.439884     -0.2143856\n",
      " 10 1306.6600590565452  43.75500959080711 ... -5.2979093   -0.019052442\n",
      "...                ...                ... ...        ...            ...\n",
      "403 1894.6812662601913 2354.0199382356213 ...  -4.359886    -0.04745882\n",
      "404  784.9058990663955 2360.2102210651933 ... -6.9788685     -0.5591597\n",
      "405 1225.1754609077077 2368.3210410495903 ...  -9.190603     -2.5395408\n",
      "406 1031.9821245531655 2385.3882636778512 ... -4.4980927   -0.027782137\n",
      "407 2090.9853428463784  2386.713933692905 ...        nan   -0.001598834\n",
      "408  832.8494604025168  2387.439513089087 ...        nan   -0.025372583\n",
      "409  878.9231119744593  2387.523520603073 ... -7.9876776      -1.268621\n",
      "410  872.6204819061571 2390.3447618852856 ...  -9.316352     -2.5493658\n",
      "411 1006.8175871974802 2392.5920328954353 ... -10.779972     -4.0503397\n",
      "412  2212.929721808276 2391.0122077598917 ...  -4.657797   -0.015680162\n",
      "Length = 412 rows\n"
     ]
    }
   ],
   "source": [
    "from photutils.detection import DAOStarFinder\n",
    "from astropy.stats import sigma_clipped_stats\n",
    "\n",
    "# Assuming 'image' is a 2D NumPy array of the astronomical image\n",
    "mean, median, std = sigma_clipped_stats(image, sigma=3.0)\n",
    "\n",
    "# Initialize DAOStarFinder\n",
    "daofind = DAOStarFinder(threshold=5.*std, fwhm=3.0)\n",
    "\n",
    "# Find stars\n",
    "sources = daofind(image - median)\n",
    "\n",
    "# Print results\n",
    "print(sources)"
   ]
  },
  {
   "cell_type": "markdown",
   "metadata": {},
   "source": [
    "Calculate temperature using color index data"
   ]
  },
  {
   "cell_type": "markdown",
   "metadata": {},
   "source": [
    "Try with just the imported functions."
   ]
  },
  {
   "cell_type": "code",
   "execution_count": 5,
   "metadata": {},
   "outputs": [],
   "source": [
    "# file_root = r'C:\\Users\\Willi\\Desktop\\134L Images\\good_fits'\n",
    "file_root = r'C:\\Users\\admin1\\OneDrive\\Desktop\\134L Images\\good_fits'"
   ]
  },
  {
   "cell_type": "code",
   "execution_count": 10,
   "metadata": {},
   "outputs": [],
   "source": [
    "def calculate_all(file_root, star_name, x_position, y_position, radius):\n",
    "    star_fluxes = calculate_flux(file_root, star_name, x_position, y_position, radius)[0]\n",
    "    filter_zeropoints = calculate_flux(file_root, star_name, x_position, y_position, radius)[1]\n",
    "    apparent_mags = np.zeros(3)\n",
    "    for i in range(3):\n",
    "        apparent_mags[i] = apparent_mag(star_fluxes[i], filter_zeropoints[i])\n",
    "\n",
    "    index_gr = apparent_mags[0] - apparent_mags[1]\n",
    "    index_ri = apparent_mags[1] - apparent_mags[2]\n",
    "    index_gi = apparent_mags[0] - apparent_mags[2]\n",
    "    index_values = [index_gr, index_ri, index_gi]\n",
    "    print(index_values)\n",
    "\n",
    "    temperatures = np.zeros(3)\n",
    "    for i in range(3):\n",
    "        temperatures[i] = calculate_temperature(index_values[i], color_index_types[i], csv_data)\n",
    "\n",
    "    average_temp = np.mean(temperatures)\n",
    "    temp_std = np.std(temperatures)\n",
    "\n",
    "    return star_fluxes, apparent_mags, temperatures, average_temp, temp_std"
   ]
  },
  {
   "cell_type": "code",
   "execution_count": 12,
   "metadata": {},
   "outputs": [
    {
     "data": {
      "text/plain": [
       "([5950.871171875, 2245.7225, 545.4123486328124],\n",
       " array([12.21520916, 12.70695636, 13.06846054]),\n",
       " array([100000., 100000., 100000.]),\n",
       " 100000.0,\n",
       " 0.0)"
      ]
     },
     "execution_count": 12,
     "metadata": {},
     "output_type": "execute_result"
    }
   ],
   "source": [
    "calculate_all(file_root, 'WD0621-376_', 1166, 1259, 8)"
   ]
  },
  {
   "cell_type": "code",
   "execution_count": 13,
   "metadata": {},
   "outputs": [
    {
     "name": "stdout",
     "output_type": "stream",
     "text": [
      "7.807430011033443\n",
      "8.299177211033442\n",
      "8.660681391033442\n"
     ]
    }
   ],
   "source": [
    "print(relative_to_absolute_magnitude(12.21520916, 76.13))\n",
    "print(relative_to_absolute_magnitude(12.70695636, 76.13))\n",
    "print(relative_to_absolute_magnitude(13.06846054, 76.13))"
   ]
  },
  {
   "cell_type": "code",
   "execution_count": 11,
   "metadata": {},
   "outputs": [
    {
     "name": "stdout",
     "output_type": "stream",
     "text": [
      "[-0.49174718109251714, -0.3615037085030117, -0.8532508895955289]\n"
     ]
    },
    {
     "data": {
      "text/plain": [
       "([42506.223, 16040.875, 3895.8025],\n",
       " array([10.08052978, 10.57227696, 10.93378067]),\n",
       " array([100000., 100000., 100000.]),\n",
       " 100000.0,\n",
       " 0.0)"
      ]
     },
     "execution_count": 11,
     "metadata": {},
     "output_type": "execute_result"
    }
   ],
   "source": [
    "calculate_all(file_root, 'WD0621-376_', 1166, 1259, 8)"
   ]
  },
  {
   "cell_type": "code",
   "execution_count": 8,
   "metadata": {},
   "outputs": [
    {
     "name": "stdout",
     "output_type": "stream",
     "text": [
      "5.672220851033442\n",
      "6.164220851033441\n",
      "6.525220851033442\n"
     ]
    }
   ],
   "source": [
    "print(relative_to_absolute_magnitude(10.080, 76.13))\n",
    "print(relative_to_absolute_magnitude(10.572, 76.13))\n",
    "print(relative_to_absolute_magnitude(10.933, 76.13))"
   ]
  },
  {
   "cell_type": "code",
   "execution_count": 6,
   "metadata": {},
   "outputs": [
    {
     "data": {
      "text/plain": [
       "([58707.164, 35686.727, 10611.516],\n",
       " array([9.64278643, 9.62425715, 9.71333189]),\n",
       " array([10500., 14900., 11700.]),\n",
       " 12366.666666666666,\n",
       " 1857.1184369578827)"
      ]
     },
     "execution_count": 6,
     "metadata": {},
     "output_type": "execute_result"
    }
   ],
   "source": [
    "calculate_all(file_root, 'LHS_253_', 1251, 1175, 8)"
   ]
  },
  {
   "cell_type": "code",
   "execution_count": 6,
   "metadata": {},
   "outputs": [
    {
     "name": "stdout",
     "output_type": "stream",
     "text": [
      "9.9905020261665\n",
      "9.9720020261665\n",
      "10.060802026166499\n"
     ]
    }
   ],
   "source": [
    "print(relative_to_absolute_magnitude(9.6427, 8.52))\n",
    "print(relative_to_absolute_magnitude(9.6242, 8.52))\n",
    "print(relative_to_absolute_magnitude(9.713, 8.52))"
   ]
  },
  {
   "cell_type": "code",
   "execution_count": 6,
   "metadata": {},
   "outputs": [
    {
     "data": {
      "text/plain": [
       "([944.6901406249999, 551.456390625, 167.00490624999998],\n",
       " array([14.18279463, 14.231414  , 14.37469643]),\n",
       " array([11700., 19700., 13500.]),\n",
       " 14966.666666666666,\n",
       " 3426.6926069057063)"
      ]
     },
     "execution_count": 6,
     "metadata": {},
     "output_type": "execute_result"
    }
   ],
   "source": [
    "calculate_all(file_root, 'LAWD_8_', 1208, 1216, 8)"
   ]
  },
  {
   "cell_type": "code",
   "execution_count": 9,
   "metadata": {},
   "outputs": [
    {
     "name": "stdout",
     "output_type": "stream",
     "text": [
      "13.061294999600866\n",
      "13.109914369600865\n",
      "13.253196799600866\n"
     ]
    }
   ],
   "source": [
    "print(relative_to_absolute_magnitude(14.18279463, 16.761))\n",
    "print(relative_to_absolute_magnitude(14.231414, 16.761))\n",
    "print(relative_to_absolute_magnitude(14.37469643, 16.761))"
   ]
  },
  {
   "cell_type": "code",
   "execution_count": 10,
   "metadata": {},
   "outputs": [
    {
     "data": {
      "text/plain": [
       "([2985.94625, 2157.8111132812496, 894.7300195312498],\n",
       " array([12.96293269, 12.69025376, 12.65932917]),\n",
       " array([7600., 9900., 8300.]),\n",
       " 8600.0,\n",
       " 962.6352718795767)"
      ]
     },
     "execution_count": 10,
     "metadata": {},
     "output_type": "execute_result"
    }
   ],
   "source": [
    "calculate_all(file_root, 'van_Maanen_', 1189, 1173, 8)"
   ]
  },
  {
   "cell_type": "code",
   "execution_count": 11,
   "metadata": {},
   "outputs": [
    {
     "name": "stdout",
     "output_type": "stream",
     "text": [
      "14.78551395592544\n",
      "14.512835025925439\n",
      "14.481910435925439\n"
     ]
    }
   ],
   "source": [
    "print(relative_to_absolute_magnitude(12.96293269, 4.32))\n",
    "print(relative_to_absolute_magnitude(12.69025376, 4.32))\n",
    "print(relative_to_absolute_magnitude(12.65932917, 4.32))"
   ]
  },
  {
   "cell_type": "code",
   "execution_count": 5,
   "metadata": {},
   "outputs": [
    {
     "data": {
      "text/plain": [
       "([170625.5, 123303.49, 51127.43],\n",
       " array([8.57052829, 8.29784911, 8.26692438]),\n",
       " array([7600., 9900., 8300.]),\n",
       " 8600.0,\n",
       " 962.6352718795767)"
      ]
     },
     "execution_count": 5,
     "metadata": {},
     "output_type": "execute_result"
    }
   ],
   "source": [
    "calculate_all(file_root, 'van_Maanen_', 1189, 1173, 8)"
   ]
  },
  {
   "cell_type": "code",
   "execution_count": 4,
   "metadata": {},
   "outputs": [
    {
     "name": "stdout",
     "output_type": "stream",
     "text": [
      "10.39310946592544\n",
      "10.12038126592544\n",
      "10.08948126592544\n"
     ]
    }
   ],
   "source": [
    "print(relative_to_absolute_magnitude(8.5705282, 4.32))\n",
    "print(relative_to_absolute_magnitude(8.2978, 4.32))\n",
    "print(relative_to_absolute_magnitude(8.2669, 4.32))"
   ]
  },
  {
   "cell_type": "code",
   "execution_count": 14,
   "metadata": {},
   "outputs": [
    {
     "data": {
      "text/plain": [
       "([7335.29453125, 10858.06298828125, 14840.624804687499],\n",
       " array([12.03485102, 11.01811695,  9.49676254]),\n",
       " array([4300., 2200., 3200.]),\n",
       " 3233.3333333333335,\n",
       " 857.6453553512405)"
      ]
     },
     "execution_count": 14,
     "metadata": {},
     "output_type": "execute_result"
    }
   ],
   "source": [
    "calculate_all(file_root, 'omi02EriB_', 1213, 1233, 7)"
   ]
  },
  {
   "cell_type": "code",
   "execution_count": 15,
   "metadata": {},
   "outputs": [
    {
     "name": "stdout",
     "output_type": "stream",
     "text": [
      "13.536529418988133\n",
      "12.519795348988133\n",
      "10.998440938988134\n"
     ]
    }
   ],
   "source": [
    "print(relative_to_absolute_magnitude(12.03485102, 5.008))\n",
    "print(relative_to_absolute_magnitude(11.01811695, 5.008))\n",
    "print(relative_to_absolute_magnitude(9.49676254, 5.008))"
   ]
  },
  {
   "cell_type": "code",
   "execution_count": 8,
   "metadata": {},
   "outputs": [
    {
     "data": {
      "text/plain": [
       "([10478.992, 15511.519, 21200.893],\n",
       " array([11.64759626, 10.63086215,  9.10950793]),\n",
       " array([4300., 2200., 3200.]),\n",
       " 3233.3333333333335,\n",
       " 857.6453553512405)"
      ]
     },
     "execution_count": 8,
     "metadata": {},
     "output_type": "execute_result"
    }
   ],
   "source": [
    "calculate_all(file_root, 'omi02EriB_', 1213, 1233, 7)"
   ]
  },
  {
   "cell_type": "code",
   "execution_count": 7,
   "metadata": {},
   "outputs": [
    {
     "name": "stdout",
     "output_type": "stream",
     "text": [
      "13.148678398988134\n",
      "12.131678398988134\n",
      "10.611178398988134\n"
     ]
    }
   ],
   "source": [
    "print(relative_to_absolute_magnitude(11.647, 5.008))\n",
    "print(relative_to_absolute_magnitude(10.630, 5.008))\n",
    "print(relative_to_absolute_magnitude(9.10950, 5.008))"
   ]
  }
 ],
 "metadata": {
  "kernelspec": {
   "display_name": "base",
   "language": "python",
   "name": "python3"
  },
  "language_info": {
   "codemirror_mode": {
    "name": "ipython",
    "version": 3
   },
   "file_extension": ".py",
   "mimetype": "text/x-python",
   "name": "python",
   "nbconvert_exporter": "python",
   "pygments_lexer": "ipython3",
   "version": "3.12.4"
  }
 },
 "nbformat": 4,
 "nbformat_minor": 2
}
