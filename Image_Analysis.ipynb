{
 "cells": [
  {
   "cell_type": "code",
   "execution_count": 1,
   "metadata": {},
   "outputs": [],
   "source": [
    "import numpy as np\n",
    "import matplotlib.pyplot as plt\n",
    "from astropy.io import fits\n",
    "import sys\n",
    "import os\n",
    "import pandas as pd"
   ]
  },
  {
   "cell_type": "code",
   "execution_count": 2,
   "metadata": {},
   "outputs": [],
   "source": [
    "from analysis_functions import *"
   ]
  },
  {
   "cell_type": "markdown",
   "metadata": {},
   "source": [
    "Calculate temperature using color index data"
   ]
  },
  {
   "cell_type": "code",
   "execution_count": 12,
   "metadata": {},
   "outputs": [],
   "source": [
    "def apparent_mag(flux, zeropoint):\n",
    "    return -2.5 * np.log10(flux) + zeropoint"
   ]
  },
  {
   "cell_type": "code",
   "execution_count": 6,
   "metadata": {},
   "outputs": [],
   "source": [
    "filters = ['g', 'r', 'i']\n",
    "filter_zeropoints = [21.65063765247328, 21.025287319733366, 20.03855919309204] # instrumental zeropoint (mag), for g, r, i\n",
    "color_index_types = ['g-r', 'r-i', 'g-i']"
   ]
  },
  {
   "cell_type": "code",
   "execution_count": 28,
   "metadata": {},
   "outputs": [
    {
     "name": "stdout",
     "output_type": "stream",
     "text": [
      "[170625.5, 123303.49, 51127.43]\n"
     ]
    }
   ],
   "source": [
    "# for van Maanen's star\n",
    "star = 'van_Maanen_'\n",
    "radius = 8 # pixels\n",
    "VM_fluxes = []\n",
    "x_star, y_star = 1189, 1173\n",
    "\n",
    "file_root = r'C:\\Users\\Willi\\Desktop\\134L Images\\good_fits'\n",
    "for filter in filters:\n",
    "    file = os.path.join(file_root, star + f\"{filter}\" + '.fits')\n",
    "    # print(file)\n",
    "\n",
    "    hdul = fits.open(file)\n",
    "    data = hdul[1].data\n",
    "\n",
    "    y, x = np.indices(data.shape)  # Create coordinate grids for the image\n",
    "    distance = np.sqrt((x - x_star)**2 + (y - y_star)**2)  # Distance of each pixel from the star center\n",
    "\n",
    "    aperture_mask = distance <= radius\n",
    "\n",
    "    background_mask = (distance > radius + 1) & (distance <= radius + 10)\n",
    "    background_values = data[background_mask]  # Pixels outside the aperture\n",
    "    background_median = np.median(background_values)  # Median background level\n",
    "\n",
    "    aperture_flux = np.sum(data[aperture_mask] - background_median)\n",
    "\n",
    "    VM_fluxes.append(aperture_flux)\n",
    "\n",
    "print(VM_fluxes)"
   ]
  },
  {
   "cell_type": "code",
   "execution_count": 10,
   "metadata": {},
   "outputs": [],
   "source": [
    "def calculate_flux(file_root, star_name, x_position, y_position, radius):\n",
    "    fluxes = []\n",
    "    for filter in filters:\n",
    "        file = os.path.join(file_root, star_name + f\"{filter}\" + '.fits')\n",
    "\n",
    "        hdul = fits.open(file)\n",
    "        data = hdul[1].data\n",
    "\n",
    "        y, x = np.indices(data.shape)  # Create coordinate grids for the image\n",
    "        distance = np.sqrt((x - x_position)**2 + (y - y_position)**2)  # Distance of each pixel from the star center\n",
    "\n",
    "        aperture_mask = distance <= radius\n",
    "\n",
    "        background_mask = (distance > radius + 1) & (distance <= radius + 10)\n",
    "        background_values = data[background_mask]  # Pixels outside the aperture\n",
    "        background_median = np.median(background_values)  # Median background level\n",
    "\n",
    "        aperture_flux = np.sum(data[aperture_mask] - background_median)\n",
    "\n",
    "        fluxes.append(aperture_flux)\n",
    "\n",
    "    return fluxes"
   ]
  },
  {
   "cell_type": "code",
   "execution_count": 11,
   "metadata": {},
   "outputs": [
    {
     "data": {
      "text/plain": [
       "[170625.5, 123303.49, 51127.43]"
      ]
     },
     "execution_count": 11,
     "metadata": {},
     "output_type": "execute_result"
    }
   ],
   "source": [
    "calculate_flux(r'C:\\Users\\Willi\\Desktop\\134L Images\\good_fits', 'van_Maanen_', 1189, 1173, 8)"
   ]
  },
  {
   "cell_type": "code",
   "execution_count": 47,
   "metadata": {},
   "outputs": [
    {
     "name": "stdout",
     "output_type": "stream",
     "text": [
      "8.570528294639416 8.297849108292326 8.266924375968628\n",
      "0.27267918634709076 0.030924732323697413 0.3036039186707882\n"
     ]
    }
   ],
   "source": [
    "VM_index_g = mag(VM_fluxes[0], filter_zeropoints[0])\n",
    "VM_index_r = mag(VM_fluxes[1], filter_zeropoints[1])\n",
    "VM_index_i = mag(VM_fluxes[2], filter_zeropoints[2])\n",
    "print(VM_index_g, VM_index_r, VM_index_i)\n",
    "\n",
    "VM_gr = VM_index_g - VM_index_r\n",
    "VM_ri = VM_index_r - VM_index_i\n",
    "VM_gi = VM_index_g - VM_index_i\n",
    "print(VM_gr, VM_ri, VM_gi)\n",
    "\n",
    "VM_indices = [VM_gr, VM_ri, VM_gi]"
   ]
  },
  {
   "cell_type": "code",
   "execution_count": 33,
   "metadata": {},
   "outputs": [
    {
     "name": "stdout",
     "output_type": "stream",
     "text": [
      "The temperature for van Maanen's star color index 0.65 with color index type g-r is 7600 K\n"
     ]
    }
   ],
   "source": [
    "color_index_type = 'g-r'\n",
    "temperature = calculate_temperature(VM_gr, color_index_type, data)\n",
    "print(f\"The temperature for van Maanen's star color index {color_index} with color index type {color_index_type} is {temperature} K\")"
   ]
  },
  {
   "cell_type": "code",
   "execution_count": 22,
   "metadata": {},
   "outputs": [
    {
     "name": "stdout",
     "output_type": "stream",
     "text": [
      "The temperature for van Maanen's star color index 0.65 with color index type r-i is 10000 K\n"
     ]
    }
   ],
   "source": [
    "color_index_type = 'r-i'\n",
    "temperature = calculate_temperature(VM_ri, color_index_type, data)\n",
    "print(f\"The temperature for van Maanen's star color index {color_index} with color index type {color_index_type} is {temperature} K\")"
   ]
  },
  {
   "cell_type": "code",
   "execution_count": 23,
   "metadata": {},
   "outputs": [
    {
     "name": "stdout",
     "output_type": "stream",
     "text": [
      "The temperature for van Maanen's star color index 0.65 with color index type g-i is 8200 K\n"
     ]
    }
   ],
   "source": [
    "color_index_type = 'g-i'\n",
    "temperature = calculate_temperature(VM_gi, color_index_type, data)\n",
    "print(f\"The temperature for van Maanen's star color index {color_index} with color index type {color_index_type} is {temperature} K\")"
   ]
  },
  {
   "cell_type": "code",
   "execution_count": 24,
   "metadata": {},
   "outputs": [
    {
     "name": "stdout",
     "output_type": "stream",
     "text": [
      "Average temp for van Maanen:  8600.0\n"
     ]
    }
   ],
   "source": [
    "print('Average temp for van Maanen: ' , (7600+10000+8200)/3)"
   ]
  },
  {
   "cell_type": "code",
   "execution_count": 48,
   "metadata": {},
   "outputs": [
    {
     "name": "stdout",
     "output_type": "stream",
     "text": [
      "Average temp for van Maanen:  8600.0\n"
     ]
    }
   ],
   "source": [
    "temperatures = []\n",
    "for i in range(3):\n",
    "    temperature = calculate_temperature(VM_indices[i], color_index_types[i], data)\n",
    "    temperatures.append(temperature)\n",
    "    # print(f\"The temperature for LAWD 8 color index {color_index} with color index type {color_index_type} is {temperature} K\")\n",
    "\n",
    "print('Average temp for van Maanen: ' , np.mean(temperatures))"
   ]
  },
  {
   "cell_type": "markdown",
   "metadata": {},
   "source": [
    "Now for LAWD 8"
   ]
  },
  {
   "cell_type": "code",
   "execution_count": 27,
   "metadata": {},
   "outputs": [
    {
     "name": "stdout",
     "output_type": "stream",
     "text": [
      "[67049.05, 38889.344, 11649.363]\n"
     ]
    }
   ],
   "source": [
    "# for LAWD 8\n",
    "star = 'LAWD_8_'\n",
    "radius = 7 # pixels\n",
    "lawd8_fluxes = []\n",
    "x_star, y_star = 1208, 1216\n",
    "\n",
    "file_root = r'C:\\Users\\Willi\\Desktop\\134L Images\\good_fits'\n",
    "for filter in filters:\n",
    "    file = os.path.join(file_root, star + f\"{filter}\" + '.fits')\n",
    "    # print(file)\n",
    "\n",
    "    hdul = fits.open(file)\n",
    "    data = hdul[1].data\n",
    "\n",
    "    y, x = np.indices(data.shape)  # Create coordinate grids for the image\n",
    "    distance = np.sqrt((x - x_star)**2 + (y - y_star)**2)  # Distance of each pixel from the star center\n",
    "\n",
    "    aperture_mask = distance <= radius\n",
    "\n",
    "    background_mask = (distance > radius + 1) & (distance <= radius + 10)\n",
    "    background_values = data[background_mask]  # Pixels outside the aperture\n",
    "    background_median = np.median(background_values)  # Median background level\n",
    "\n",
    "    aperture_flux = np.sum(data[aperture_mask] - background_median)\n",
    "\n",
    "    lawd8_fluxes.append(aperture_flux)\n",
    "\n",
    "print(lawd8_fluxes)"
   ]
  },
  {
   "cell_type": "code",
   "execution_count": 45,
   "metadata": {},
   "outputs": [
    {
     "name": "stdout",
     "output_type": "stream",
     "text": [
      "9.584656025962659 9.55071132333444 9.872803444343262\n",
      "0.03394470262821869 -0.3220921210088221 -0.2881474183806034\n"
     ]
    }
   ],
   "source": [
    "lawd8_index_g = mag(lawd8_fluxes[0], filter_zeropoints[0])\n",
    "lawd8_index_r = mag(lawd8_fluxes[1], filter_zeropoints[1])\n",
    "lawd8_index_i = mag(lawd8_fluxes[2], filter_zeropoints[2])\n",
    "print(lawd8_index_g, lawd8_index_r, lawd8_index_i)\n",
    "\n",
    "lawd8_gr = lawd8_index_g - lawd8_index_r\n",
    "lawd8_ri = lawd8_index_r - lawd8_index_i\n",
    "lawd8_gi = lawd8_index_g - lawd8_index_i\n",
    "print(lawd8_gr, lawd8_ri, lawd8_gi)\n",
    "lawd8_indices = [lawd8_gr, lawd8_ri, lawd8_gi]"
   ]
  },
  {
   "cell_type": "code",
   "execution_count": 46,
   "metadata": {},
   "outputs": [
    {
     "name": "stdout",
     "output_type": "stream",
     "text": [
      "Average temp for LAWD 8:  11400.0\n"
     ]
    }
   ],
   "source": [
    "temperatures = []\n",
    "for i in range(3):\n",
    "    temperature = calculate_temperature(lawd8_indices[i], color_index_types[i], data)\n",
    "    temperatures.append(temperature)\n",
    "    # print(f\"The temperature for LAWD 8 color index {color_index} with color index type {color_index_type} is {temperature} K\")\n",
    "\n",
    "print('Average temp for LAWD 8: ' , np.mean(temperatures))"
   ]
  },
  {
   "cell_type": "markdown",
   "metadata": {},
   "source": [
    "Try with just the imported functions."
   ]
  },
  {
   "cell_type": "markdown",
   "metadata": {},
   "source": [
    "van Maanen's Star"
   ]
  },
  {
   "cell_type": "code",
   "execution_count": 3,
   "metadata": {},
   "outputs": [],
   "source": [
    "file_root = r'C:\\Users\\Willi\\Desktop\\134L Images\\good_fits'"
   ]
  },
  {
   "cell_type": "code",
   "execution_count": 16,
   "metadata": {},
   "outputs": [
    {
     "name": "stdout",
     "output_type": "stream",
     "text": [
      "[10478.992, 15511.519, 21200.893]\n",
      "[11.599839   10.54865163  9.22267413]\n"
     ]
    }
   ],
   "source": [
    "omi_fluxes = calculate_flux(file_root, 'omi02EriB_', 1213, 1233, 7)\n",
    "print(omi_fluxes)\n",
    "omi_apparent_mag = np.zeros(3)\n",
    "for i in range(3):\n",
    "    omi_apparent_mag[i] = apparent_mag(omi_fluxes[i], filter_zeropoints[i])\n",
    "\n",
    "print(omi_apparent_mag)"
   ]
  },
  {
   "cell_type": "code",
   "execution_count": 7,
   "metadata": {},
   "outputs": [
    {
     "data": {
      "text/plain": [
       "([42506.223, 16040.875, 3895.8025],\n",
       " array([10.08052978, 10.57227696, 10.93378067]),\n",
       " array([100000., 100000., 100000.]),\n",
       " 100000.0,\n",
       " 0.0)"
      ]
     },
     "execution_count": 7,
     "metadata": {},
     "output_type": "execute_result"
    }
   ],
   "source": [
    "calculate_all(file_root, 'WD0621-376_', 1166, 1259, 8)"
   ]
  },
  {
   "cell_type": "code",
   "execution_count": 6,
   "metadata": {},
   "outputs": [
    {
     "data": {
      "text/plain": [
       "([58707.164, 35686.727, 10611.516],\n",
       " array([9.64278643, 9.62425715, 9.71333189]),\n",
       " array([10500., 14900., 11700.]),\n",
       " 12366.666666666666,\n",
       " 1857.1184369578827)"
      ]
     },
     "execution_count": 6,
     "metadata": {},
     "output_type": "execute_result"
    }
   ],
   "source": [
    "calculate_all(file_root, 'LHS_253_', 1251, 1175, 8)"
   ]
  },
  {
   "cell_type": "code",
   "execution_count": 5,
   "metadata": {},
   "outputs": [
    {
     "data": {
      "text/plain": [
       "([67477.87, 39389.742, 11928.922],\n",
       " array([9.54811516, 9.59673402, 9.74001694]),\n",
       " array([11700., 19700., 13500.]),\n",
       " 14966.666666666666,\n",
       " 3426.6926069057063)"
      ]
     },
     "execution_count": 5,
     "metadata": {},
     "output_type": "execute_result"
    }
   ],
   "source": [
    "calculate_all(file_root, 'LAWD_8_', 1208, 1216, 8)"
   ]
  },
  {
   "cell_type": "code",
   "execution_count": 4,
   "metadata": {},
   "outputs": [
    {
     "data": {
      "text/plain": [
       "([170625.5, 123303.49, 51127.43],\n",
       " array([8.57052829, 8.29784911, 8.26692438]),\n",
       " array([7600., 9900., 8300.]),\n",
       " 8600.0,\n",
       " 962.6352718795767)"
      ]
     },
     "execution_count": 4,
     "metadata": {},
     "output_type": "execute_result"
    }
   ],
   "source": [
    "calculate_all(file_root, 'van_Maanen_', 1189, 1173, 8)"
   ]
  },
  {
   "cell_type": "code",
   "execution_count": 8,
   "metadata": {},
   "outputs": [
    {
     "data": {
      "text/plain": [
       "([10478.992, 15511.519, 21200.893],\n",
       " array([11.64759626, 10.63086215,  9.10950793]),\n",
       " array([4300., 2200., 3200.]),\n",
       " 3233.3333333333335,\n",
       " 857.6453553512405)"
      ]
     },
     "execution_count": 8,
     "metadata": {},
     "output_type": "execute_result"
    }
   ],
   "source": [
    "calculate_all(file_root, 'omi02EriB_', 1213, 1233, 7)"
   ]
  },
  {
   "cell_type": "code",
   "execution_count": null,
   "metadata": {},
   "outputs": [],
   "source": []
  }
 ],
 "metadata": {
  "kernelspec": {
   "display_name": "base",
   "language": "python",
   "name": "python3"
  },
  "language_info": {
   "codemirror_mode": {
    "name": "ipython",
    "version": 3
   },
   "file_extension": ".py",
   "mimetype": "text/x-python",
   "name": "python",
   "nbconvert_exporter": "python",
   "pygments_lexer": "ipython3",
   "version": "3.9.12"
  }
 },
 "nbformat": 4,
 "nbformat_minor": 2
}
