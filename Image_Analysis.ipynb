{
 "cells": [
  {
   "cell_type": "code",
   "execution_count": 3,
   "metadata": {},
   "outputs": [],
   "source": [
    "import numpy as np\n",
    "import matplotlib.pyplot as plt\n",
    "from astropy.io import fits\n",
    "import sys\n",
    "import os\n",
    "import pandas as pd"
   ]
  },
  {
   "cell_type": "markdown",
   "metadata": {},
   "source": [
    "Search for \"zeropoint\" in the image header"
   ]
  },
  {
   "cell_type": "code",
   "execution_count": 15,
   "metadata": {},
   "outputs": [],
   "source": [
    "def sum_pixel_values_within_radius(image_file, center, radius):\n",
    "    \"\"\"\n",
    "    Sum the pixel values within a certain radius in a FITS file.\n",
    "    \n",
    "    Parameters:\n",
    "    - image_file (str): The name of the FITS file.\n",
    "    - center (tuple): The (x, y) pixel coordinates for the center of the circle.\n",
    "    - radius (float): The radius of the circle.\n",
    "    \n",
    "    Returns:\n",
    "    - float: The sum of the pixel values within the specified radius.\n",
    "    \"\"\"\n",
    "    # Open the FITS file\n",
    "    with fits.open(image_file) as hdul:\n",
    "        # Find the first extension with image data\n",
    "        for hdu in hdul:\n",
    "            if hdu.data is not None:\n",
    "                image_data = hdu.data\n",
    "                break\n",
    "        else:\n",
    "            raise ValueError(\"No image data found in the FITS file.\")\n",
    "    \n",
    "    # Get the dimensions of the image\n",
    "    height, width = image_data.shape\n",
    "    \n",
    "    # Create a grid of coordinates\n",
    "    y, x = np.ogrid[:height, :width]\n",
    "    \n",
    "    # Calculate the distance of each pixel from the center\n",
    "    distance = np.sqrt((x - center[0])**2 + (y - center[1])**2)\n",
    "    \n",
    "    # Create a mask for pixels within the specified radius\n",
    "    mask = distance <= radius\n",
    "    \n",
    "    # Sum the pixel values within the mask\n",
    "    pixel_sum = np.sum(image_data[mask])\n",
    "    \n",
    "    return pixel_sum"
   ]
  },
  {
   "cell_type": "code",
   "execution_count": 18,
   "metadata": {},
   "outputs": [
    {
     "name": "stdout",
     "output_type": "stream",
     "text": [
      "The sum of pixel values within the radius is 3352.44775390625\n"
     ]
    }
   ],
   "source": [
    "# Example usage\n",
    "image_file = r'C:\\\\Users\\\\admin1\\\\OneDrive\\Desktop\\\\134L Images\\\\good_fits\\\\van_Maanen_g.fits'\n",
    "center = (2000, 705)\n",
    "radius = 5\n",
    "pixel_sum = sum_pixel_values_within_radius(image_file, center, radius)\n",
    "print(f'The sum of pixel values within the radius is {pixel_sum}')"
   ]
  },
  {
   "cell_type": "markdown",
   "metadata": {},
   "source": [
    "Calculate temperature using color index data"
   ]
  },
  {
   "cell_type": "code",
   "execution_count": 17,
   "metadata": {},
   "outputs": [],
   "source": [
    "def load_color_index_data(file_path):\n",
    "    return pd.read_csv(file_path)"
   ]
  },
  {
   "cell_type": "code",
   "execution_count": 32,
   "metadata": {},
   "outputs": [],
   "source": [
    "data = load_color_index_data('LCO_bb_color_indices.csv')"
   ]
  },
  {
   "cell_type": "code",
   "execution_count": 18,
   "metadata": {},
   "outputs": [],
   "source": [
    "def calculate_temperature(color_index, color_index_type, data):\n",
    "    \"\"\"\n",
    "    Calculate the temperature for a given color index and color index type using the data from the CSV file.\n",
    "    \"\"\"\n",
    "    # Ensure the color index type is valid\n",
    "    if color_index_type not in data.columns:\n",
    "        raise ValueError(f\"Invalid color index type: {color_index_type}. Must be one of {data.columns[1:]}\")\n",
    "    \n",
    "    # Find the closest color index in the data\n",
    "    closest_row = data.iloc[(data[color_index_type] - color_index).abs().argsort()[:1]]\n",
    "    return closest_row['Temperature (K)'].values[0]\n"
   ]
  },
  {
   "cell_type": "code",
   "execution_count": 39,
   "metadata": {},
   "outputs": [
    {
     "name": "stdout",
     "output_type": "stream",
     "text": [
      "The temperature for color index 0.65 with color index type g-r is 5400 K\n"
     ]
    }
   ],
   "source": [
    "# Example usage\n",
    "color_index = 0.65\n",
    "color_index_type = 'g-r'\n",
    "temperature = calculate_temperature(color_index, color_index_type, data)\n",
    "print(f'The temperature for color index {color_index} with color index type {color_index_type} is {temperature} K')"
   ]
  },
  {
   "cell_type": "markdown",
   "metadata": {},
   "source": [
    "Bring in functions from the other doc"
   ]
  },
  {
   "cell_type": "code",
   "execution_count": 7,
   "metadata": {},
   "outputs": [],
   "source": [
    "# coordinates in the form [x, y]\n",
    "van_maanen_coords = (1189, 1173)\n",
    "lawd8_coords = (1208, 1216)"
   ]
  },
  {
   "cell_type": "code",
   "execution_count": null,
   "metadata": {},
   "outputs": [
    {
     "name": "stdout",
     "output_type": "stream",
     "text": [
      "(2400, 2400)\n"
     ]
    }
   ],
   "source": [
    "# open a fits file\n",
    "# file = r'C:\\Users\\admin1\\OneDrive\\Desktop\\134L Images\\good_fits\\van_Maanen_g.fits' # desktop\n",
    "file = r'C:\\Users\\Willi\\Desktop\\134L Images\\good_fits\\van_Maanen_g.fits' # laptop\n",
    "os.path.exists(file)\n",
    "hdul = fits.open(file)\n",
    "data = hdul[1].data\n",
    "print(data.shape)"
   ]
  },
  {
   "cell_type": "code",
   "execution_count": 12,
   "metadata": {},
   "outputs": [],
   "source": [
    "def apparent_mag(flux, zeropoint):\n",
    "    return -2.5 * np.log10(flux) + zeropoint"
   ]
  },
  {
   "cell_type": "code",
   "execution_count": 6,
   "metadata": {},
   "outputs": [],
   "source": [
    "filters = ['g', 'r', 'i']\n",
    "filter_zeropoints = [21.65063765247328, 21.025287319733366, 20.03855919309204] # instrumental zeropoint (mag), for g, r, i\n",
    "color_index_types = ['g-r', 'r-i', 'g-i']"
   ]
  },
  {
   "cell_type": "code",
   "execution_count": 28,
   "metadata": {},
   "outputs": [
    {
     "name": "stdout",
     "output_type": "stream",
     "text": [
      "[170625.5, 123303.49, 51127.43]\n"
     ]
    }
   ],
   "source": [
    "# for van Maanen's star\n",
    "star = 'van_Maanen_'\n",
    "radius = 8 # pixels\n",
    "VM_fluxes = []\n",
    "x_star, y_star = 1189, 1173\n",
    "\n",
    "file_root = r'C:\\Users\\Willi\\Desktop\\134L Images\\good_fits'\n",
    "for filter in filters:\n",
    "    file = os.path.join(file_root, star + f\"{filter}\" + '.fits')\n",
    "    # print(file)\n",
    "\n",
    "    hdul = fits.open(file)\n",
    "    data = hdul[1].data\n",
    "\n",
    "    y, x = np.indices(data.shape)  # Create coordinate grids for the image\n",
    "    distance = np.sqrt((x - x_star)**2 + (y - y_star)**2)  # Distance of each pixel from the star center\n",
    "\n",
    "    aperture_mask = distance <= radius\n",
    "\n",
    "    background_mask = (distance > radius + 1) & (distance <= radius + 10)\n",
    "    background_values = data[background_mask]  # Pixels outside the aperture\n",
    "    background_median = np.median(background_values)  # Median background level\n",
    "\n",
    "    aperture_flux = np.sum(data[aperture_mask] - background_median)\n",
    "\n",
    "    VM_fluxes.append(aperture_flux)\n",
    "\n",
    "print(VM_fluxes)"
   ]
  },
  {
   "cell_type": "code",
   "execution_count": 10,
   "metadata": {},
   "outputs": [],
   "source": [
    "def calculate_flux(file_root, star_name, x_position, y_position, radius):\n",
    "    fluxes = []\n",
    "    for filter in filters:\n",
    "        file = os.path.join(file_root, star_name + f\"{filter}\" + '.fits')\n",
    "\n",
    "        hdul = fits.open(file)\n",
    "        data = hdul[1].data\n",
    "\n",
    "        y, x = np.indices(data.shape)  # Create coordinate grids for the image\n",
    "        distance = np.sqrt((x - x_position)**2 + (y - y_position)**2)  # Distance of each pixel from the star center\n",
    "\n",
    "        aperture_mask = distance <= radius\n",
    "\n",
    "        background_mask = (distance > radius + 1) & (distance <= radius + 10)\n",
    "        background_values = data[background_mask]  # Pixels outside the aperture\n",
    "        background_median = np.median(background_values)  # Median background level\n",
    "\n",
    "        aperture_flux = np.sum(data[aperture_mask] - background_median)\n",
    "\n",
    "        fluxes.append(aperture_flux)\n",
    "\n",
    "    return fluxes"
   ]
  },
  {
   "cell_type": "code",
   "execution_count": 11,
   "metadata": {},
   "outputs": [
    {
     "data": {
      "text/plain": [
       "[170625.5, 123303.49, 51127.43]"
      ]
     },
     "execution_count": 11,
     "metadata": {},
     "output_type": "execute_result"
    }
   ],
   "source": [
    "calculate_flux(r'C:\\Users\\Willi\\Desktop\\134L Images\\good_fits', 'van_Maanen_', 1189, 1173, 8)"
   ]
  },
  {
   "cell_type": "code",
   "execution_count": 47,
   "metadata": {},
   "outputs": [
    {
     "name": "stdout",
     "output_type": "stream",
     "text": [
      "8.570528294639416 8.297849108292326 8.266924375968628\n",
      "0.27267918634709076 0.030924732323697413 0.3036039186707882\n"
     ]
    }
   ],
   "source": [
    "VM_index_g = mag(VM_fluxes[0], filter_zeropoints[0])\n",
    "VM_index_r = mag(VM_fluxes[1], filter_zeropoints[1])\n",
    "VM_index_i = mag(VM_fluxes[2], filter_zeropoints[2])\n",
    "print(VM_index_g, VM_index_r, VM_index_i)\n",
    "\n",
    "VM_gr = VM_index_g - VM_index_r\n",
    "VM_ri = VM_index_r - VM_index_i\n",
    "VM_gi = VM_index_g - VM_index_i\n",
    "print(VM_gr, VM_ri, VM_gi)\n",
    "\n",
    "VM_indices = [VM_gr, VM_ri, VM_gi]"
   ]
  },
  {
   "cell_type": "code",
   "execution_count": 33,
   "metadata": {},
   "outputs": [
    {
     "name": "stdout",
     "output_type": "stream",
     "text": [
      "The temperature for van Maanen's star color index 0.65 with color index type g-r is 7600 K\n"
     ]
    }
   ],
   "source": [
    "color_index_type = 'g-r'\n",
    "temperature = calculate_temperature(VM_gr, color_index_type, data)\n",
    "print(f\"The temperature for van Maanen's star color index {color_index} with color index type {color_index_type} is {temperature} K\")"
   ]
  },
  {
   "cell_type": "code",
   "execution_count": 22,
   "metadata": {},
   "outputs": [
    {
     "name": "stdout",
     "output_type": "stream",
     "text": [
      "The temperature for van Maanen's star color index 0.65 with color index type r-i is 10000 K\n"
     ]
    }
   ],
   "source": [
    "color_index_type = 'r-i'\n",
    "temperature = calculate_temperature(VM_ri, color_index_type, data)\n",
    "print(f\"The temperature for van Maanen's star color index {color_index} with color index type {color_index_type} is {temperature} K\")"
   ]
  },
  {
   "cell_type": "code",
   "execution_count": 23,
   "metadata": {},
   "outputs": [
    {
     "name": "stdout",
     "output_type": "stream",
     "text": [
      "The temperature for van Maanen's star color index 0.65 with color index type g-i is 8200 K\n"
     ]
    }
   ],
   "source": [
    "color_index_type = 'g-i'\n",
    "temperature = calculate_temperature(VM_gi, color_index_type, data)\n",
    "print(f\"The temperature for van Maanen's star color index {color_index} with color index type {color_index_type} is {temperature} K\")"
   ]
  },
  {
   "cell_type": "code",
   "execution_count": 24,
   "metadata": {},
   "outputs": [
    {
     "name": "stdout",
     "output_type": "stream",
     "text": [
      "Average temp for van Maanen:  8600.0\n"
     ]
    }
   ],
   "source": [
    "print('Average temp for van Maanen: ' , (7600+10000+8200)/3)"
   ]
  },
  {
   "cell_type": "code",
   "execution_count": 48,
   "metadata": {},
   "outputs": [
    {
     "name": "stdout",
     "output_type": "stream",
     "text": [
      "Average temp for van Maanen:  8600.0\n"
     ]
    }
   ],
   "source": [
    "temperatures = []\n",
    "for i in range(3):\n",
    "    temperature = calculate_temperature(VM_indices[i], color_index_types[i], data)\n",
    "    temperatures.append(temperature)\n",
    "    # print(f\"The temperature for LAWD 8 color index {color_index} with color index type {color_index_type} is {temperature} K\")\n",
    "\n",
    "print('Average temp for van Maanen: ' , np.mean(temperatures))"
   ]
  },
  {
   "cell_type": "markdown",
   "metadata": {},
   "source": [
    "Now for LAWD 8"
   ]
  },
  {
   "cell_type": "code",
   "execution_count": 27,
   "metadata": {},
   "outputs": [
    {
     "name": "stdout",
     "output_type": "stream",
     "text": [
      "[67049.05, 38889.344, 11649.363]\n"
     ]
    }
   ],
   "source": [
    "# for LAWD 8\n",
    "star = 'LAWD_8_'\n",
    "radius = 7 # pixels\n",
    "lawd8_fluxes = []\n",
    "x_star, y_star = 1208, 1216\n",
    "\n",
    "file_root = r'C:\\Users\\Willi\\Desktop\\134L Images\\good_fits'\n",
    "for filter in filters:\n",
    "    file = os.path.join(file_root, star + f\"{filter}\" + '.fits')\n",
    "    # print(file)\n",
    "\n",
    "    hdul = fits.open(file)\n",
    "    data = hdul[1].data\n",
    "\n",
    "    y, x = np.indices(data.shape)  # Create coordinate grids for the image\n",
    "    distance = np.sqrt((x - x_star)**2 + (y - y_star)**2)  # Distance of each pixel from the star center\n",
    "\n",
    "    aperture_mask = distance <= radius\n",
    "\n",
    "    background_mask = (distance > radius + 1) & (distance <= radius + 10)\n",
    "    background_values = data[background_mask]  # Pixels outside the aperture\n",
    "    background_median = np.median(background_values)  # Median background level\n",
    "\n",
    "    aperture_flux = np.sum(data[aperture_mask] - background_median)\n",
    "\n",
    "    lawd8_fluxes.append(aperture_flux)\n",
    "\n",
    "print(lawd8_fluxes)"
   ]
  },
  {
   "cell_type": "code",
   "execution_count": 45,
   "metadata": {},
   "outputs": [
    {
     "name": "stdout",
     "output_type": "stream",
     "text": [
      "9.584656025962659 9.55071132333444 9.872803444343262\n",
      "0.03394470262821869 -0.3220921210088221 -0.2881474183806034\n"
     ]
    }
   ],
   "source": [
    "lawd8_index_g = mag(lawd8_fluxes[0], filter_zeropoints[0])\n",
    "lawd8_index_r = mag(lawd8_fluxes[1], filter_zeropoints[1])\n",
    "lawd8_index_i = mag(lawd8_fluxes[2], filter_zeropoints[2])\n",
    "print(lawd8_index_g, lawd8_index_r, lawd8_index_i)\n",
    "\n",
    "lawd8_gr = lawd8_index_g - lawd8_index_r\n",
    "lawd8_ri = lawd8_index_r - lawd8_index_i\n",
    "lawd8_gi = lawd8_index_g - lawd8_index_i\n",
    "print(lawd8_gr, lawd8_ri, lawd8_gi)\n",
    "lawd8_indices = [lawd8_gr, lawd8_ri, lawd8_gi]"
   ]
  },
  {
   "cell_type": "code",
   "execution_count": 46,
   "metadata": {},
   "outputs": [
    {
     "name": "stdout",
     "output_type": "stream",
     "text": [
      "Average temp for LAWD 8:  11400.0\n"
     ]
    }
   ],
   "source": [
    "temperatures = []\n",
    "for i in range(3):\n",
    "    temperature = calculate_temperature(lawd8_indices[i], color_index_types[i], data)\n",
    "    temperatures.append(temperature)\n",
    "    # print(f\"The temperature for LAWD 8 color index {color_index} with color index type {color_index_type} is {temperature} K\")\n",
    "\n",
    "print('Average temp for LAWD 8: ' , np.mean(temperatures))"
   ]
  },
  {
   "cell_type": "code",
   "execution_count": null,
   "metadata": {},
   "outputs": [],
   "source": []
  }
 ],
 "metadata": {
  "kernelspec": {
   "display_name": "base",
   "language": "python",
   "name": "python3"
  },
  "language_info": {
   "codemirror_mode": {
    "name": "ipython",
    "version": 3
   },
   "file_extension": ".py",
   "mimetype": "text/x-python",
   "name": "python",
   "nbconvert_exporter": "python",
   "pygments_lexer": "ipython3",
   "version": "3.9.12"
  }
 },
 "nbformat": 4,
 "nbformat_minor": 2
}
