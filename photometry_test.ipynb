{
 "cells": [
  {
   "cell_type": "code",
   "execution_count": 8,
   "metadata": {},
   "outputs": [],
   "source": [
    "import numpy as np\n",
    "from astropy.io import fits\n",
    "from astropy.wcs import WCS\n",
    "from astropy.coordinates import SkyCoord\n",
    "from astropy import units as u\n",
    "from photutils.detection import DAOStarFinder\n",
    "from astropy.stats import sigma_clipped_stats\n",
    "from astroquery.vizier import Vizier\n",
    "from photutils.aperture import CircularAperture, CircularAnnulus, aperture_photometry"
   ]
  },
  {
   "cell_type": "code",
   "execution_count": 2,
   "metadata": {},
   "outputs": [],
   "source": [
    "def detect_stars(image_data, threshold_sigma=5, fwhm=3.0):\n",
    "    \"\"\"\n",
    "    Detect stars in the FITS image using DAOStarFinder.\n",
    "\n",
    "    Parameters:\n",
    "        image_data (2D array): The FITS image data.\n",
    "        threshold_sigma (float): Detection threshold in terms of image standard deviation.\n",
    "        fwhm (float): Full width at half maximum for the stars in pixels.\n",
    "\n",
    "    Returns:\n",
    "        astropy.table.Table: Table of detected star positions and fluxes.\n",
    "    \"\"\"\n",
    "    # Compute basic statistics for the image\n",
    "    mean, median, std = sigma_clipped_stats(image_data, sigma=3.0)\n",
    "    \n",
    "    # Detect stars\n",
    "    daofind = DAOStarFinder(threshold=threshold_sigma * std, fwhm=fwhm)\n",
    "    sources = daofind(image_data - median)\n",
    "    \n",
    "    return sources"
   ]
  },
  {
   "cell_type": "code",
   "execution_count": 3,
   "metadata": {},
   "outputs": [],
   "source": [
    "def query_star_catalog(ra_center, dec_center, search_radius=0.1, catalog_name='I/345/gaia2'):\n",
    "    \"\"\"\n",
    "    Query a star catalog (e.g., Gaia) to get reference stars near the image center.\n",
    "\n",
    "    Parameters:\n",
    "        ra_center (float): RA of the image center in degrees.\n",
    "        dec_center (float): Dec of the image center in degrees.\n",
    "        search_radius (float): Radius around the center to search (in degrees).\n",
    "        catalog_name (str): Vizier catalog name (default: Gaia DR2).\n",
    "\n",
    "    Returns:\n",
    "        astropy.table.Table: Catalog data containing RA, Dec, and magnitudes.\n",
    "    \"\"\"\n",
    "    vizier = Vizier(columns=['RA_ICRS', 'DE_ICRS', 'Gmag'])  # Adjust columns for your catalog\n",
    "    catalog = vizier.query_region(\n",
    "        SkyCoord(ra=ra_center, dec=dec_center, unit=(u.deg, u.deg), frame='icrs'),\n",
    "        radius=search_radius * u.deg,\n",
    "        catalog=catalog_name\n",
    "    )\n",
    "    return catalog[0] if len(catalog) > 0 else None"
   ]
  },
  {
   "cell_type": "code",
   "execution_count": 4,
   "metadata": {},
   "outputs": [],
   "source": [
    "def match_stars_to_catalog(detected_stars, catalog, wcs, matching_radius=1.0):\n",
    "    \"\"\"\n",
    "    Match detected stars to catalog stars using RA/Dec coordinates.\n",
    "\n",
    "    Parameters:\n",
    "        detected_stars (astropy.table.Table): Detected stars with xcentroid, ycentroid.\n",
    "        catalog (astropy.table.Table): Catalog data with RA and Dec.\n",
    "        wcs (astropy.wcs.WCS): WCS object to convert pixel to world coordinates.\n",
    "        matching_radius (float): Matching radius in arcseconds.\n",
    "\n",
    "    Returns:\n",
    "        astropy.table.Table: Matched catalog with additional pixel coordinates.\n",
    "    \"\"\"\n",
    "    # Convert detected stars (pixel coordinates) to RA/Dec\n",
    "    detected_coords = SkyCoord.from_pixel(detected_stars['xcentroid'], detected_stars['ycentroid'], wcs)\n",
    "    \n",
    "    # Catalog coordinates\n",
    "    catalog_coords = SkyCoord(ra=catalog['RA_ICRS'] * u.deg, dec=catalog['DE_ICRS'] * u.deg)\n",
    "    \n",
    "    # Match coordinates\n",
    "    idx, d2d, _ = detected_coords.match_to_catalog_sky(catalog_coords)\n",
    "    matches = catalog[d2d < matching_radius * u.arcsec]\n",
    "    \n",
    "    # Add matched pixel coordinates to the catalog\n",
    "    matches['x_pixel'], matches['y_pixel'] = detected_coords[idx].to_pixel(wcs)\n",
    "    return matches"
   ]
  },
  {
   "cell_type": "code",
   "execution_count": 5,
   "metadata": {},
   "outputs": [],
   "source": [
    "def measure_flux(image, x, y, aperture_radius, annulus_radii):\n",
    "    \"\"\"\n",
    "    Measure the flux of a star using aperture photometry.\n",
    "\n",
    "    Parameters:\n",
    "        image (2D array): The FITS image data.\n",
    "        x, y (float): The x and y coordinates of the star in pixels.\n",
    "        aperture_radius (float): Radius of the photometric aperture in pixels.\n",
    "        annulus_radii (tuple): Inner and outer radii of the background annulus.\n",
    "\n",
    "    Returns:\n",
    "        float: Flux of the star with background subtracted.\n",
    "    \"\"\"\n",
    "    # Define the aperture and annulus\n",
    "    aperture = CircularAperture((x, y), r=aperture_radius)\n",
    "    annulus = CircularAnnulus((x, y), r_in=annulus_radii[0], r_out=annulus_radii[1])\n",
    "    \n",
    "    # Create masks and calculate background\n",
    "    annulus_mask = annulus.to_mask(method='center')\n",
    "    annulus_data = annulus_mask.multiply(image)\n",
    "    annulus_data_1d = annulus_data[annulus_data > 0]\n",
    "    background_median = np.median(annulus_data_1d)\n",
    "    \n",
    "    # Perform aperture photometry\n",
    "    phot_table = aperture_photometry(image, aperture)\n",
    "    phot_table['flux'] = phot_table['aperture_sum'] - background_median * aperture.area\n",
    "    \n",
    "    return phot_table['flux'][0]"
   ]
  },
  {
   "cell_type": "code",
   "execution_count": 6,
   "metadata": {},
   "outputs": [],
   "source": [
    "def calculate_apparent_magnitude(flux, zero_point):\n",
    "    \"\"\"\n",
    "    Calculate the apparent magnitude from the flux and zero point.\n",
    "\n",
    "    Parameters:\n",
    "        flux (float): Measured flux of the star.\n",
    "        zero_point (float): Zero-point magnitude.\n",
    "\n",
    "    Returns:\n",
    "        float: Apparent magnitude.\n",
    "    \"\"\"\n",
    "    return -2.5 * np.log10(flux) + zero_point\n",
    "\n",
    "def calculate_absolute_magnitude(apparent_mag, distance_pc):\n",
    "    \"\"\"\n",
    "    Calculate the absolute magnitude of a star.\n",
    "\n",
    "    Parameters:\n",
    "        apparent_mag (float): Apparent magnitude of the star.\n",
    "        distance_pc (float): Distance to the star in parsecs.\n",
    "\n",
    "    Returns:\n",
    "        float: Absolute magnitude.\n",
    "    \"\"\"\n",
    "    return apparent_mag - 5 * np.log10(distance_pc) + 5"
   ]
  },
  {
   "cell_type": "code",
   "execution_count": 9,
   "metadata": {},
   "outputs": [],
   "source": [
    "image = r'C:\\Users\\admin1\\OneDrive\\Desktop\\134L Images\\good_fits\\van_Maanen_g.fits'"
   ]
  },
  {
   "cell_type": "code",
   "execution_count": null,
   "metadata": {},
   "outputs": [],
   "source": [
    "# Load the FITS file and WCS\n",
    "hdul = fits.open(image)\n",
    "image_data = hdul[0].data\n",
    "wcs = WCS(hdul[0].header)\n",
    "\n",
    "# Detect stars\n",
    "detected_stars = detect_stars(image_data)\n",
    "\n",
    "# Query catalog\n",
    "catalog = query_star_catalog(ra_center=123.45, dec_center=-54.32)\n",
    "\n",
    "# Match stars\n",
    "matched_catalog = match_stars_to_catalog(detected_stars, catalog, wcs)\n",
    "\n",
    "# Measure flux for a target star\n",
    "target_flux = measure_flux(image_data, x=matched_catalog['x_pixel'][0], y=matched_catalog['y_pixel'][0], \n",
    "                           aperture_radius=5, annulus_radii=(6, 10))\n",
    "\n",
    "# Calculate apparent and absolute magnitude\n",
    "apparent_mag = calculate_apparent_magnitude(target_flux, zero_point=21.0)\n",
    "absolute_mag = calculate_absolute_magnitude(apparent_mag, distance_pc=50)\n",
    "print(f\"Apparent Magnitude: {apparent_mag:.2f}, Absolute Magnitude: {absolute_mag:.2f}\")"
   ]
  },
  {
   "cell_type": "code",
   "execution_count": 11,
   "metadata": {},
   "outputs": [
    {
     "name": "stdout",
     "output_type": "stream",
     "text": [
      "['', '']\n"
     ]
    },
    {
     "name": "stderr",
     "output_type": "stream",
     "text": [
      "WARNING: FITSFixedWarning: 'obsfix' made the change 'Set OBSGEO-L to   -16.511694 from OBSGEO-[XYZ].\n",
      "Set OBSGEO-B to    28.300308 from OBSGEO-[XYZ].\n",
      "Set OBSGEO-H to     2386.994 from OBSGEO-[XYZ]'. [astropy.wcs.wcs]\n"
     ]
    }
   ],
   "source": [
    "from astropy.io import fits\n",
    "from astropy.wcs import WCS\n",
    "\n",
    "# Load the FITS file and its WCS header\n",
    "hdul = fits.open(image)\n",
    "header = hdul[1].header\n",
    "wcs = WCS(header)\n",
    "\n",
    "# Confirm the coordinate system\n",
    "print(wcs.wcs.cname)  # Should show ICRS or equivalent RA/Dec system"
   ]
  },
  {
   "cell_type": "code",
   "execution_count": 12,
   "metadata": {},
   "outputs": [
    {
     "name": "stdout",
     "output_type": "stream",
     "text": [
      "WCS Keywords\n",
      "\n",
      "Number of WCS axes: 2\n",
      "CTYPE : 'RA---TAN' 'DEC--TAN' \n",
      "CRVAL : 12.2974061364 5.37504937898 \n",
      "CRPIX : 1200.5 1200.5 \n",
      "CD1_1 CD1_2  : -0.00020755979988 4.50257361394e-07 \n",
      "CD2_1 CD2_2  : 4.50257361394e-07 0.00020755979988 \n",
      "NAXIS : 2400  2400\n"
     ]
    }
   ],
   "source": [
    "print(wcs)"
   ]
  },
  {
   "cell_type": "code",
   "execution_count": 13,
   "metadata": {},
   "outputs": [
    {
     "name": "stdout",
     "output_type": "stream",
     "text": [
      "Star 1: RA = 12.299792 deg, Dec = 5.369751 deg\n",
      "Star 2: RA = 12.270584 deg, Dec = 5.359851 deg\n",
      "Star 3: RA = 12.382837 deg, Dec = 5.400493 deg\n"
     ]
    }
   ],
   "source": [
    "from astropy.coordinates import SkyCoord\n",
    "\n",
    "# Example pixel coordinates of stars (replace with actual values or from detection algorithm)\n",
    "x_pixels = [1189, 1329, 791]\n",
    "y_pixels = [1175, 1127, 1324]\n",
    "\n",
    "# Convert pixel coordinates to RA/Dec\n",
    "ra_dec_coords = SkyCoord.from_pixel(x_pixels, y_pixels, wcs, origin=1)  # FITS uses 1-based indexing\n",
    "\n",
    "# Print the results\n",
    "for i, coord in enumerate(ra_dec_coords):\n",
    "    print(f\"Star {i+1}: RA = {coord.ra.deg:.6f} deg, Dec = {coord.dec.deg:.6f} deg\")\n"
   ]
  },
  {
   "cell_type": "code",
   "execution_count": 14,
   "metadata": {},
   "outputs": [
    {
     "name": "stdout",
     "output_type": "stream",
     "text": [
      "Found 50 stars in the Gaia catalog.\n",
      "    RA_ICRS         DE_ICRS        Gmag  \n",
      "      deg             deg          mag   \n",
      "--------------- --------------- ---------\n",
      " 12.34942483877   5.18798278683 18.340267\n",
      " 12.27133085463   5.18042290545 20.805977\n",
      " 12.31924606135   5.18095019658 20.758215\n",
      " 12.32821766984   5.20041747013 21.820425\n",
      " 12.28859044471   5.18020800815 20.931898\n",
      " 12.29860030266   5.18871623287 18.021954\n",
      " 12.27498376208   5.19138212416 20.751665\n",
      " 12.28365589153   5.19892645169 21.147926\n",
      " 12.30681649113   5.19558767037 20.207163\n",
      "            ...             ...       ...\n",
      " 12.23691439519   5.20002717104 18.433680\n",
      " 12.24445546222   5.20429776484 20.419570\n",
      " 12.21028994437   5.19500047505 21.003350\n",
      " 12.22592546239   5.20943165790 20.812883\n",
      " 12.22930060415   5.20941728925 17.673510\n",
      " 12.20476937347   5.20853279936 14.389923\n",
      " 12.20127453876   5.20844321882 20.287804\n",
      " 12.27540539136   5.21379353063 21.808867\n",
      " 12.24962657005   5.21245585625 22.005976\n",
      " 12.24971482642   5.20334104487 20.042027\n",
      "Length = 50 rows\n"
     ]
    }
   ],
   "source": [
    "from astroquery.vizier import Vizier\n",
    "from astropy.coordinates import SkyCoord\n",
    "from astropy import units as u\n",
    "\n",
    "# Define a region around the center of your image\n",
    "image_center = SkyCoord(ra=12.2974061364 * u.deg, dec=5.37504937898 * u.deg)  # From WCS CRVAL\n",
    "search_radius = 0.2 * u.deg  # Adjust based on your image size\n",
    "\n",
    "# Query the Gaia catalog within this region\n",
    "vizier = Vizier(columns=[\"RA_ICRS\", \"DE_ICRS\", \"Gmag\"])  # RA, Dec, and G-band magnitude\n",
    "catalog = vizier.query_region(image_center, radius=search_radius, catalog=\"I/350/gaiaedr3\")\n",
    "\n",
    "# Extract relevant data\n",
    "if len(catalog) > 0:\n",
    "    gaia_stars = catalog[0]\n",
    "    print(f\"Found {len(gaia_stars)} stars in the Gaia catalog.\")\n",
    "    print(gaia_stars)\n",
    "else:\n",
    "    print(\"No stars found in the Gaia catalog within the search region.\")"
   ]
  },
  {
   "cell_type": "code",
   "execution_count": 16,
   "metadata": {},
   "outputs": [
    {
     "name": "stdout",
     "output_type": "stream",
     "text": [
      "Star 1:\n",
      "  Detected: RA = 12.299792, Dec = 5.369751\n",
      "  Closest Gaia match: RA = 12.382756, Dec = 5.283962\n",
      "  Gaia Gmag = 20.367\n",
      "  Angular separation = 428.740 arcsec\n",
      "\n",
      "Star 2:\n",
      "  Detected: RA = 12.270584, Dec = 5.359851\n",
      "  Closest Gaia match: RA = 12.319049, Dec = 5.237301\n",
      "  Gaia Gmag = 20.905\n",
      "  Angular separation = 474.152 arcsec\n",
      "\n",
      "Star 3:\n",
      "  Detected: RA = 12.382837, Dec = 5.400493\n",
      "  Closest Gaia match: RA = 12.382756, Dec = 5.283962\n",
      "  Gaia Gmag = 20.367\n",
      "  Angular separation = 419.513 arcsec\n",
      "\n"
     ]
    }
   ],
   "source": [
    "from astropy.coordinates import match_coordinates_sky\n",
    "\n",
    "# Detected stars from your image\n",
    "detected_stars = SkyCoord(\n",
    "    ra=[12.299792, 12.270584, 12.382837] * u.deg,\n",
    "    dec=[5.369751, 5.359851, 5.400493] * u.deg\n",
    ")\n",
    "\n",
    "# Gaia catalog stars (ensure proper units in degrees)\n",
    "gaia_stars = SkyCoord(\n",
    "    ra=catalog[0][\"RA_ICRS\"].data * u.deg,  # Convert the data values to degrees\n",
    "    dec=catalog[0][\"DE_ICRS\"].data * u.deg  # Convert the data values to degrees\n",
    ")\n",
    "\n",
    "# Perform cross-match\n",
    "idx, d2d, d3d = match_coordinates_sky(detected_stars, gaia_stars)\n",
    "\n",
    "# Print results\n",
    "for i, (detected, index, separation) in enumerate(zip(detected_stars, idx, d2d)):\n",
    "    print(f\"Star {i+1}:\")\n",
    "    print(f\"  Detected: RA = {detected.ra.deg:.6f}, Dec = {detected.dec.deg:.6f}\")\n",
    "    print(f\"  Closest Gaia match: RA = {gaia_stars[index].ra.deg:.6f}, Dec = {gaia_stars[index].dec.deg:.6f}\")\n",
    "    print(f\"  Gaia Gmag = {catalog[0]['Gmag'][index]:.3f}\")\n",
    "    print(f\"  Angular separation = {separation.arcsec:.3f} arcsec\\n\")\n"
   ]
  },
  {
   "cell_type": "code",
   "execution_count": 21,
   "metadata": {},
   "outputs": [
    {
     "name": "stdout",
     "output_type": "stream",
     "text": [
      "Star 1:\n",
      "  Detected: RA = 12.299792, Dec = 5.369751\n",
      "  Closest Gaia match: RA = 12.382756, Dec = 5.283962\n",
      "  Gaia Gmag = 20.367\n",
      "  Angular separation = 428.740 arcsec\n",
      "\n",
      "Star 2:\n",
      "  Detected: RA = 12.270584, Dec = 5.359851\n",
      "  Closest Gaia match: RA = 12.319049, Dec = 5.237301\n",
      "  Gaia Gmag = 20.905\n",
      "  Angular separation = 474.152 arcsec\n",
      "\n",
      "Star 3:\n",
      "  Detected: RA = 12.382837, Dec = 5.400493\n",
      "  Closest Gaia match: RA = 12.382756, Dec = 5.283962\n",
      "  Gaia Gmag = 20.367\n",
      "  Angular separation = 419.513 arcsec\n",
      "\n"
     ]
    }
   ],
   "source": [
    "from astropy.coordinates import match_coordinates_sky\n",
    "\n",
    "# Set a maximum separation threshold (in degrees)\n",
    "max_separation = 0.2 * u.deg  # 0.1 degrees\n",
    "\n",
    "# Detected stars from your image\n",
    "detected_stars = SkyCoord(\n",
    "    ra=[12.299792, 12.270584, 12.382837] * u.deg,\n",
    "    dec=[5.369751, 5.359851, 5.400493] * u.deg\n",
    ")\n",
    "\n",
    "# Gaia catalog stars (ensure proper units in degrees)\n",
    "gaia_stars = SkyCoord(\n",
    "    ra=catalog[0][\"RA_ICRS\"].data * u.deg,  # Convert the data values to degrees\n",
    "    dec=catalog[0][\"DE_ICRS\"].data * u.deg  # Convert the data values to degrees\n",
    ")\n",
    "\n",
    "# Perform cross-match with separation threshold\n",
    "idx, d2d, d3d = match_coordinates_sky(detected_stars, gaia_stars)\n",
    "\n",
    "# Filter out matches with separation greater than the threshold\n",
    "valid_matches = d2d < max_separation\n",
    "\n",
    "# Print the valid matches\n",
    "for i, (detected, index, separation) in enumerate(zip(detected_stars, idx, d2d)):\n",
    "    if valid_matches[i]:\n",
    "        print(f\"Star {i+1}:\")\n",
    "        print(f\"  Detected: RA = {detected.ra.deg:.6f}, Dec = {detected.dec.deg:.6f}\")\n",
    "        print(f\"  Closest Gaia match: RA = {gaia_stars[index].ra.deg:.6f}, Dec = {gaia_stars[index].dec.deg:.6f}\")\n",
    "        print(f\"  Gaia Gmag = {catalog[0]['Gmag'][index]:.3f}\")\n",
    "        print(f\"  Angular separation = {separation.arcsec:.3f} arcsec\\n\")\n",
    "    else:\n",
    "        # Access the value and unit separately for max_separation\n",
    "        print(f\"Star {i+1}: No valid match found within {max_separation.value} {max_separation.unit}.\")\n"
   ]
  },
  {
   "cell_type": "code",
   "execution_count": 22,
   "metadata": {},
   "outputs": [],
   "source": [
    "from analysis_functions import *"
   ]
  },
  {
   "cell_type": "code",
   "execution_count": 23,
   "metadata": {},
   "outputs": [
    {
     "data": {
      "text/plain": [
       "([171424.86, 122294.5, 51023.08],\n",
       " [21.65063765247328, 21.025287319733366, 20.03855919309204])"
      ]
     },
     "execution_count": 23,
     "metadata": {},
     "output_type": "execute_result"
    }
   ],
   "source": [
    "calculate_flux(r'C:\\Users\\admin1\\OneDrive\\Desktop\\134L Images\\good_fits', 'van_Maanen_', 1189, 1175, 8)"
   ]
  },
  {
   "cell_type": "code",
   "execution_count": 24,
   "metadata": {},
   "outputs": [
    {
     "data": {
      "text/plain": [
       "8.56545314383315"
      ]
     },
     "execution_count": 24,
     "metadata": {},
     "output_type": "execute_result"
    }
   ],
   "source": [
    "apparent_mag(171424.86, 21.65063765247328)"
   ]
  },
  {
   "cell_type": "code",
   "execution_count": 25,
   "metadata": {},
   "outputs": [
    {
     "data": {
      "text/plain": [
       "10.393066793029492"
      ]
     },
     "execution_count": 25,
     "metadata": {},
     "output_type": "execute_result"
    }
   ],
   "source": [
    "relative_to_absolute_magnitude(8.56545314383315, 4.31)"
   ]
  },
  {
   "cell_type": "code",
   "execution_count": 26,
   "metadata": {},
   "outputs": [],
   "source": [
    "def apparent_mag2(flux, zeropoint, exptime):\n",
    "    \"\"\"Calculate the apparent magnitude.\"\"\"\n",
    "    # return -2.5 * np.log10(flux) + zeropoint\n",
    "    return -2.5 * np.log10(flux / exptime) + zeropoint"
   ]
  },
  {
   "cell_type": "code",
   "execution_count": 27,
   "metadata": {},
   "outputs": [
    {
     "data": {
      "text/plain": [
       "12.570603122153056"
      ]
     },
     "execution_count": 27,
     "metadata": {},
     "output_type": "execute_result"
    }
   ],
   "source": [
    "apparent_mag2(171424.86, 21.65063765247328, 40)"
   ]
  },
  {
   "cell_type": "code",
   "execution_count": 28,
   "metadata": {},
   "outputs": [
    {
     "data": {
      "text/plain": [
       "14.398216771349398"
      ]
     },
     "execution_count": 28,
     "metadata": {},
     "output_type": "execute_result"
    }
   ],
   "source": [
    "relative_to_absolute_magnitude(12.570603122153056, 4.31)"
   ]
  },
  {
   "cell_type": "code",
   "execution_count": null,
   "metadata": {},
   "outputs": [],
   "source": [
    "# gain: 0.7 e-/ADU\n",
    "# Flux = Gain * Counts / Exptime.\n",
    "# m = -2.5 * log10(F) + zeropoint"
   ]
  },
  {
   "cell_type": "code",
   "execution_count": null,
   "metadata": {},
   "outputs": [
    {
     "name": "stdout",
     "output_type": "stream",
     "text": [
      "892.9024999999999\n",
      "12.661549095769193\n",
      "14.489162744965535\n"
     ]
    }
   ],
   "source": [
    "F = 51023*0.7/40\n",
    "print(F)\n",
    "zp = 20.03855919309204\n",
    "d = 4.3\n",
    "m = -2.5 * np.log10(F) + zp\n",
    "print(m)\n",
    "M = m - 5 * np.log10(d) + 5\n",
    "print(M)"
   ]
  },
  {
   "cell_type": "code",
   "execution_count": 35,
   "metadata": {},
   "outputs": [
    {
     "data": {
      "text/plain": [
       "14.785477118221971"
      ]
     },
     "execution_count": 35,
     "metadata": {},
     "output_type": "execute_result"
    }
   ],
   "source": [
    "m-5*np.log10(4.31)+5"
   ]
  },
  {
   "cell_type": "code",
   "execution_count": 63,
   "metadata": {},
   "outputs": [
    {
     "data": {
      "text/plain": [
       "([944.6901406249999, 551.456390625, 167.00490624999998],\n",
       " [21.62101808246613, 21.085191937037823, 19.931519508237372],\n",
       " [67477.87, 39389.742, 11928.922])"
      ]
     },
     "execution_count": 63,
     "metadata": {},
     "output_type": "execute_result"
    }
   ],
   "source": [
    "calculate_flux(r'C:\\Users\\admin1\\OneDrive\\Desktop\\134L Images\\good_fits', 'LAWD_8_', 1208, 1216, 8)"
   ]
  },
  {
   "cell_type": "code",
   "execution_count": 64,
   "metadata": {},
   "outputs": [
    {
     "name": "stdout",
     "output_type": "stream",
     "text": [
      "166.99200000000002\n",
      "14.374780342929432\n",
      "13.354180429649809\n"
     ]
    }
   ],
   "source": [
    "F = 11928*0.7/50\n",
    "print(F)\n",
    "zp = 19.931519508237372\n",
    "d = 16\n",
    "m = -2.5 * np.log10(F) + zp\n",
    "print(m)\n",
    "M = m - 5 * np.log10(d) + 5\n",
    "print(M)"
   ]
  },
  {
   "cell_type": "code",
   "execution_count": 62,
   "metadata": {},
   "outputs": [],
   "source": [
    "def calculate_flux(file_root, star_name, x_position, y_position, radius):\n",
    "    \"\"\"Calculate flux within an aperture of (radius) pixels, then subtract the median background counts. \n",
    "    star_name is a string that is the start of the file name (excluding the filter, like 'van_Maanen_')\"\"\"\n",
    "\n",
    "    gain = 0.7 # e-/ADU\n",
    "    pixel_sums = []\n",
    "    fluxes = []\n",
    "    filter_zeropoints = []\n",
    "\n",
    "    for filter in filters:\n",
    "        file = os.path.join(file_root, star_name + f\"{filter}\" + '.fits')\n",
    "\n",
    "        hdul = fits.open(file)\n",
    "        data = hdul[1].data\n",
    "        header = hdul[1].header\n",
    "        zeropoint = header.get('L1ZP', 'Keyword not found')\n",
    "        exptime = header.get('EXPTIME', 'Keyword not found')\n",
    "        filter_zeropoints.append(zeropoint)\n",
    "\n",
    "        y, x = np.indices(data.shape)  # Create coordinate grids for the image\n",
    "        distance = np.sqrt((x - x_position)**2 + (y - y_position)**2)  # Distance of each pixel from the star center\n",
    "\n",
    "        aperture_mask = distance <= radius\n",
    "\n",
    "        background_mask = (distance > radius + 1) & (distance <= radius + 10)\n",
    "        background_values = data[background_mask]  # Pixels outside the aperture\n",
    "        background_median = np.median(background_values)  # Median background level\n",
    "\n",
    "        aperture_flux = np.sum(data[aperture_mask] - background_median)\n",
    "\n",
    "        pixel_sums.append(aperture_flux)\n",
    "        flux = gain*aperture_flux/exptime\n",
    "        fluxes.append(flux)\n",
    "\n",
    "    return fluxes, filter_zeropoints, pixel_sums"
   ]
  },
  {
   "cell_type": "code",
   "execution_count": null,
   "metadata": {},
   "outputs": [],
   "source": []
  }
 ],
 "metadata": {
  "kernelspec": {
   "display_name": "base",
   "language": "python",
   "name": "python3"
  },
  "language_info": {
   "codemirror_mode": {
    "name": "ipython",
    "version": 3
   },
   "file_extension": ".py",
   "mimetype": "text/x-python",
   "name": "python",
   "nbconvert_exporter": "python",
   "pygments_lexer": "ipython3",
   "version": "3.12.4"
  }
 },
 "nbformat": 4,
 "nbformat_minor": 2
}
